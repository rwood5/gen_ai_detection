{
  "cells": [
    {
      "cell_type": "code",
      "execution_count": null,
      "id": "v7-ffatKLZid",
      "metadata": {
        "colab": {
          "base_uri": "https://localhost:8080/"
        },
        "id": "v7-ffatKLZid",
        "outputId": "02a93c47-3c00-4dfb-a3d4-bd5fbc92bdb4"
      },
      "outputs": [
        {
          "output_type": "stream",
          "name": "stdout",
          "text": [
            "Requirement already satisfied: nltk in /usr/local/lib/python3.11/dist-packages (3.9.1)\n",
            "Requirement already satisfied: click in /usr/local/lib/python3.11/dist-packages (from nltk) (8.1.8)\n",
            "Requirement already satisfied: joblib in /usr/local/lib/python3.11/dist-packages (from nltk) (1.4.2)\n",
            "Requirement already satisfied: regex>=2021.8.3 in /usr/local/lib/python3.11/dist-packages (from nltk) (2024.11.6)\n",
            "Requirement already satisfied: tqdm in /usr/local/lib/python3.11/dist-packages (from nltk) (4.67.1)\n",
            "<frozen runpy>:128: RuntimeWarning: 'nltk.downloader' found in sys.modules after import of package 'nltk', but prior to execution of 'nltk.downloader'; this may result in unpredictable behaviour\n",
            "[nltk_data] Downloading package averaged_perceptron_tagger to\n",
            "[nltk_data]     /root/nltk_data...\n",
            "[nltk_data]   Unzipping taggers/averaged_perceptron_tagger.zip.\n",
            "<frozen runpy>:128: RuntimeWarning: 'nltk.downloader' found in sys.modules after import of package 'nltk', but prior to execution of 'nltk.downloader'; this may result in unpredictable behaviour\n",
            "[nltk_data] Downloading package wordnet to /root/nltk_data...\n",
            "[nltk_data] Downloading package omw-1.4 to /root/nltk_data...\n",
            "[nltk_data] Downloading package punkt to /root/nltk_data...\n",
            "[nltk_data]   Unzipping tokenizers/punkt.zip.\n"
          ]
        }
      ],
      "source": [
        "!pip install nltk\n",
        "!python -m nltk.downloader averaged_perceptron_tagger\n",
        "!python -m nltk.downloader wordnet omw-1.4 punkt"
      ]
    },
    {
      "cell_type": "code",
      "execution_count": null,
      "id": "6f425b60",
      "metadata": {
        "colab": {
          "base_uri": "https://localhost:8080/"
        },
        "id": "6f425b60",
        "outputId": "8a8b1d24-8540-4c27-975e-3e7ed077ea76"
      },
      "outputs": [
        {
          "output_type": "stream",
          "name": "stderr",
          "text": [
            "[nltk_data] Downloading package punkt to /root/nltk_data...\n",
            "[nltk_data]   Package punkt is already up-to-date!\n",
            "[nltk_data] Downloading package punkt_tab to /root/nltk_data...\n",
            "[nltk_data]   Unzipping tokenizers/punkt_tab.zip.\n",
            "[nltk_data] Downloading package averaged_perceptron_tagger to\n",
            "[nltk_data]     /root/nltk_data...\n",
            "[nltk_data]   Package averaged_perceptron_tagger is already up-to-\n",
            "[nltk_data]       date!\n",
            "[nltk_data] Downloading package wordnet to /root/nltk_data...\n",
            "[nltk_data]   Package wordnet is already up-to-date!\n",
            "[nltk_data] Downloading package averaged_perceptron_tagger_eng to\n",
            "[nltk_data]     /root/nltk_data...\n",
            "[nltk_data]   Unzipping taggers/averaged_perceptron_tagger_eng.zip.\n",
            "[nltk_data] Downloading package stopwords to /root/nltk_data...\n",
            "[nltk_data]   Unzipping corpora/stopwords.zip.\n"
          ]
        },
        {
          "output_type": "execute_result",
          "data": {
            "text/plain": [
              "True"
            ]
          },
          "metadata": {},
          "execution_count": 3
        }
      ],
      "source": [
        "import pandas as pd\n",
        "import re\n",
        "from tqdm import tqdm\n",
        "import numpy as np\n",
        "import nltk\n",
        "from nltk.corpus import wordnet\n",
        "from nltk.stem import WordNetLemmatizer\n",
        "from nltk.tokenize import word_tokenize\n",
        "from matplotlib import pyplot as plt\n",
        "from sklearn.model_selection import train_test_split\n",
        "from sklearn.feature_extraction.text import TfidfVectorizer\n",
        "\n",
        "nltk.download('punkt', download_dir='/root/nltk_data')\n",
        "nltk.download('punkt_tab', download_dir='/root/nltk_data')\n",
        "nltk.download('averaged_perceptron_tagger', download_dir='/root/nltk_data')\n",
        "nltk.download('wordnet', download_dir='/root/nltk_data')\n",
        "nltk.download('averaged_perceptron_tagger_eng', download_dir='/root/nltk_data')\n",
        "nltk.download('stopwords', download_dir='/root/nltk_data')"
      ]
    },
    {
      "cell_type": "code",
      "execution_count": null,
      "id": "998d219d",
      "metadata": {
        "colab": {
          "base_uri": "https://localhost:8080/"
        },
        "id": "998d219d",
        "outputId": "bcd91749-33e9-41af-e934-76b07f930b0f"
      },
      "outputs": [
        {
          "output_type": "stream",
          "name": "stdout",
          "text": [
            "793\n"
          ]
        }
      ],
      "source": [
        "# load dataset\n",
        "df = pd.read_csv(\"human_ai_essays.csv\", index_col=0)\n",
        "print(len(df))"
      ]
    },
    {
      "cell_type": "code",
      "execution_count": null,
      "id": "42ffb930",
      "metadata": {
        "colab": {
          "base_uri": "https://localhost:8080/",
          "height": 629
        },
        "id": "42ffb930",
        "outputId": "f32ba263-3b41-4624-adea-745856cbcf00"
      },
      "outputs": [
        {
          "output_type": "execute_result",
          "data": {
            "text/plain": [
              "                                                     Question  \\\n",
              "Unnamed: 0                                                      \n",
              "1           Rich countries often give money to poorer coun...   \n",
              "3           Rich countries often give money to poorer coun...   \n",
              "5           Some countries achieve international sports by...   \n",
              "7           Some countries achieve international sports by...   \n",
              "9           Some countries achieve international sports by...   \n",
              "...                                                       ...   \n",
              "1430        Without capital punishment our lives are less ...   \n",
              "1431        Some people think that they can learn better b...   \n",
              "1432        Nowadays people like to change their day by da...   \n",
              "1433        Universities should allocate the same amount o...   \n",
              "1434        Modern medicine helps to live a longer life. D...   \n",
              "\n",
              "                                                        Essay  \\\n",
              "Unnamed: 0                                                      \n",
              "1           Poverty represents a worldwide crisis. It is t...   \n",
              "3           Human beings are facing many challenges nowada...   \n",
              "5           Whether countries should only invest facilitie...   \n",
              "7           Sports is an essential part to most of us , so...   \n",
              "9           International sports events require the most w...   \n",
              "...                                                       ...   \n",
              "1430        Serious crimes need capital punishment so that...   \n",
              "1431        It is certainly said that learning is an ongoi...   \n",
              "1432        popular hobbies rather than their individual a...   \n",
              "1433        Yes, I do feel that universities should have a...   \n",
              "1434        The modern medicine is very important for livi...   \n",
              "\n",
              "                                                     AI Essay  \\\n",
              "Unnamed: 0                                                      \n",
              "1           While many believe that wealthy nations should...   \n",
              "3           The issue of global poverty remains a serious ...   \n",
              "5           There is an ongoing debate about whether natio...   \n",
              "7           International sports success is often a source...   \n",
              "9           Many nations choose to invest heavily in speci...   \n",
              "...                                                       ...   \n",
              "1430        Some people believe that without capital punis...   \n",
              "1431        It is believed by some that learning alone is ...   \n",
              "1432        Today, many people are eager to adapt their da...   \n",
              "1433        In my opinion, universities should not necessa...   \n",
              "1434        Modern medicine is very helpful for people to ...   \n",
              "\n",
              "                                              Examiner_Commen  Overall  \n",
              "Unnamed: 0                                                              \n",
              "1                                                         NaN      6.5  \n",
              "3                                                         NaN      5.5  \n",
              "5                                                         NaN      6.5  \n",
              "7                                                         NaN      5.5  \n",
              "9                                                         NaN      9.0  \n",
              "...                                                       ...      ...  \n",
              "1430        You should rewrite it, giving more thought to ...      5.0  \n",
              "1431        Where are the paragraphs in this essay? You mu...      5.0  \n",
              "1432        I suggest that you read several essays that ha...      5.0  \n",
              "1433        Your essay too short, the introduction is good...      5.0  \n",
              "1434        The structure of sentences is not very good he...      5.0  \n",
              "\n",
              "[793 rows x 5 columns]"
            ],
            "text/html": [
              "\n",
              "  <div id=\"df-bbefc9b3-9ca6-424d-804c-fb902735bf02\" class=\"colab-df-container\">\n",
              "    <div>\n",
              "<style scoped>\n",
              "    .dataframe tbody tr th:only-of-type {\n",
              "        vertical-align: middle;\n",
              "    }\n",
              "\n",
              "    .dataframe tbody tr th {\n",
              "        vertical-align: top;\n",
              "    }\n",
              "\n",
              "    .dataframe thead th {\n",
              "        text-align: right;\n",
              "    }\n",
              "</style>\n",
              "<table border=\"1\" class=\"dataframe\">\n",
              "  <thead>\n",
              "    <tr style=\"text-align: right;\">\n",
              "      <th></th>\n",
              "      <th>Question</th>\n",
              "      <th>Essay</th>\n",
              "      <th>AI Essay</th>\n",
              "      <th>Examiner_Commen</th>\n",
              "      <th>Overall</th>\n",
              "    </tr>\n",
              "    <tr>\n",
              "      <th>Unnamed: 0</th>\n",
              "      <th></th>\n",
              "      <th></th>\n",
              "      <th></th>\n",
              "      <th></th>\n",
              "      <th></th>\n",
              "    </tr>\n",
              "  </thead>\n",
              "  <tbody>\n",
              "    <tr>\n",
              "      <th>1</th>\n",
              "      <td>Rich countries often give money to poorer coun...</td>\n",
              "      <td>Poverty represents a worldwide crisis. It is t...</td>\n",
              "      <td>While many believe that wealthy nations should...</td>\n",
              "      <td>NaN</td>\n",
              "      <td>6.5</td>\n",
              "    </tr>\n",
              "    <tr>\n",
              "      <th>3</th>\n",
              "      <td>Rich countries often give money to poorer coun...</td>\n",
              "      <td>Human beings are facing many challenges nowada...</td>\n",
              "      <td>The issue of global poverty remains a serious ...</td>\n",
              "      <td>NaN</td>\n",
              "      <td>5.5</td>\n",
              "    </tr>\n",
              "    <tr>\n",
              "      <th>5</th>\n",
              "      <td>Some countries achieve international sports by...</td>\n",
              "      <td>Whether countries should only invest facilitie...</td>\n",
              "      <td>There is an ongoing debate about whether natio...</td>\n",
              "      <td>NaN</td>\n",
              "      <td>6.5</td>\n",
              "    </tr>\n",
              "    <tr>\n",
              "      <th>7</th>\n",
              "      <td>Some countries achieve international sports by...</td>\n",
              "      <td>Sports is an essential part to most of us , so...</td>\n",
              "      <td>International sports success is often a source...</td>\n",
              "      <td>NaN</td>\n",
              "      <td>5.5</td>\n",
              "    </tr>\n",
              "    <tr>\n",
              "      <th>9</th>\n",
              "      <td>Some countries achieve international sports by...</td>\n",
              "      <td>International sports events require the most w...</td>\n",
              "      <td>Many nations choose to invest heavily in speci...</td>\n",
              "      <td>NaN</td>\n",
              "      <td>9.0</td>\n",
              "    </tr>\n",
              "    <tr>\n",
              "      <th>...</th>\n",
              "      <td>...</td>\n",
              "      <td>...</td>\n",
              "      <td>...</td>\n",
              "      <td>...</td>\n",
              "      <td>...</td>\n",
              "    </tr>\n",
              "    <tr>\n",
              "      <th>1430</th>\n",
              "      <td>Without capital punishment our lives are less ...</td>\n",
              "      <td>Serious crimes need capital punishment so that...</td>\n",
              "      <td>Some people believe that without capital punis...</td>\n",
              "      <td>You should rewrite it, giving more thought to ...</td>\n",
              "      <td>5.0</td>\n",
              "    </tr>\n",
              "    <tr>\n",
              "      <th>1431</th>\n",
              "      <td>Some people think that they can learn better b...</td>\n",
              "      <td>It is certainly said that learning is an ongoi...</td>\n",
              "      <td>It is believed by some that learning alone is ...</td>\n",
              "      <td>Where are the paragraphs in this essay? You mu...</td>\n",
              "      <td>5.0</td>\n",
              "    </tr>\n",
              "    <tr>\n",
              "      <th>1432</th>\n",
              "      <td>Nowadays people like to change their day by da...</td>\n",
              "      <td>popular hobbies rather than their individual a...</td>\n",
              "      <td>Today, many people are eager to adapt their da...</td>\n",
              "      <td>I suggest that you read several essays that ha...</td>\n",
              "      <td>5.0</td>\n",
              "    </tr>\n",
              "    <tr>\n",
              "      <th>1433</th>\n",
              "      <td>Universities should allocate the same amount o...</td>\n",
              "      <td>Yes, I do feel that universities should have a...</td>\n",
              "      <td>In my opinion, universities should not necessa...</td>\n",
              "      <td>Your essay too short, the introduction is good...</td>\n",
              "      <td>5.0</td>\n",
              "    </tr>\n",
              "    <tr>\n",
              "      <th>1434</th>\n",
              "      <td>Modern medicine helps to live a longer life. D...</td>\n",
              "      <td>The modern medicine is very important for livi...</td>\n",
              "      <td>Modern medicine is very helpful for people to ...</td>\n",
              "      <td>The structure of sentences is not very good he...</td>\n",
              "      <td>5.0</td>\n",
              "    </tr>\n",
              "  </tbody>\n",
              "</table>\n",
              "<p>793 rows × 5 columns</p>\n",
              "</div>\n",
              "    <div class=\"colab-df-buttons\">\n",
              "\n",
              "  <div class=\"colab-df-container\">\n",
              "    <button class=\"colab-df-convert\" onclick=\"convertToInteractive('df-bbefc9b3-9ca6-424d-804c-fb902735bf02')\"\n",
              "            title=\"Convert this dataframe to an interactive table.\"\n",
              "            style=\"display:none;\">\n",
              "\n",
              "  <svg xmlns=\"http://www.w3.org/2000/svg\" height=\"24px\" viewBox=\"0 -960 960 960\">\n",
              "    <path d=\"M120-120v-720h720v720H120Zm60-500h600v-160H180v160Zm220 220h160v-160H400v160Zm0 220h160v-160H400v160ZM180-400h160v-160H180v160Zm440 0h160v-160H620v160ZM180-180h160v-160H180v160Zm440 0h160v-160H620v160Z\"/>\n",
              "  </svg>\n",
              "    </button>\n",
              "\n",
              "  <style>\n",
              "    .colab-df-container {\n",
              "      display:flex;\n",
              "      gap: 12px;\n",
              "    }\n",
              "\n",
              "    .colab-df-convert {\n",
              "      background-color: #E8F0FE;\n",
              "      border: none;\n",
              "      border-radius: 50%;\n",
              "      cursor: pointer;\n",
              "      display: none;\n",
              "      fill: #1967D2;\n",
              "      height: 32px;\n",
              "      padding: 0 0 0 0;\n",
              "      width: 32px;\n",
              "    }\n",
              "\n",
              "    .colab-df-convert:hover {\n",
              "      background-color: #E2EBFA;\n",
              "      box-shadow: 0px 1px 2px rgba(60, 64, 67, 0.3), 0px 1px 3px 1px rgba(60, 64, 67, 0.15);\n",
              "      fill: #174EA6;\n",
              "    }\n",
              "\n",
              "    .colab-df-buttons div {\n",
              "      margin-bottom: 4px;\n",
              "    }\n",
              "\n",
              "    [theme=dark] .colab-df-convert {\n",
              "      background-color: #3B4455;\n",
              "      fill: #D2E3FC;\n",
              "    }\n",
              "\n",
              "    [theme=dark] .colab-df-convert:hover {\n",
              "      background-color: #434B5C;\n",
              "      box-shadow: 0px 1px 3px 1px rgba(0, 0, 0, 0.15);\n",
              "      filter: drop-shadow(0px 1px 2px rgba(0, 0, 0, 0.3));\n",
              "      fill: #FFFFFF;\n",
              "    }\n",
              "  </style>\n",
              "\n",
              "    <script>\n",
              "      const buttonEl =\n",
              "        document.querySelector('#df-bbefc9b3-9ca6-424d-804c-fb902735bf02 button.colab-df-convert');\n",
              "      buttonEl.style.display =\n",
              "        google.colab.kernel.accessAllowed ? 'block' : 'none';\n",
              "\n",
              "      async function convertToInteractive(key) {\n",
              "        const element = document.querySelector('#df-bbefc9b3-9ca6-424d-804c-fb902735bf02');\n",
              "        const dataTable =\n",
              "          await google.colab.kernel.invokeFunction('convertToInteractive',\n",
              "                                                    [key], {});\n",
              "        if (!dataTable) return;\n",
              "\n",
              "        const docLinkHtml = 'Like what you see? Visit the ' +\n",
              "          '<a target=\"_blank\" href=https://colab.research.google.com/notebooks/data_table.ipynb>data table notebook</a>'\n",
              "          + ' to learn more about interactive tables.';\n",
              "        element.innerHTML = '';\n",
              "        dataTable['output_type'] = 'display_data';\n",
              "        await google.colab.output.renderOutput(dataTable, element);\n",
              "        const docLink = document.createElement('div');\n",
              "        docLink.innerHTML = docLinkHtml;\n",
              "        element.appendChild(docLink);\n",
              "      }\n",
              "    </script>\n",
              "  </div>\n",
              "\n",
              "\n",
              "<div id=\"df-c197ead7-1045-4a8e-ab49-5d1714d15fd3\">\n",
              "  <button class=\"colab-df-quickchart\" onclick=\"quickchart('df-c197ead7-1045-4a8e-ab49-5d1714d15fd3')\"\n",
              "            title=\"Suggest charts\"\n",
              "            style=\"display:none;\">\n",
              "\n",
              "<svg xmlns=\"http://www.w3.org/2000/svg\" height=\"24px\"viewBox=\"0 0 24 24\"\n",
              "     width=\"24px\">\n",
              "    <g>\n",
              "        <path d=\"M19 3H5c-1.1 0-2 .9-2 2v14c0 1.1.9 2 2 2h14c1.1 0 2-.9 2-2V5c0-1.1-.9-2-2-2zM9 17H7v-7h2v7zm4 0h-2V7h2v10zm4 0h-2v-4h2v4z\"/>\n",
              "    </g>\n",
              "</svg>\n",
              "  </button>\n",
              "\n",
              "<style>\n",
              "  .colab-df-quickchart {\n",
              "      --bg-color: #E8F0FE;\n",
              "      --fill-color: #1967D2;\n",
              "      --hover-bg-color: #E2EBFA;\n",
              "      --hover-fill-color: #174EA6;\n",
              "      --disabled-fill-color: #AAA;\n",
              "      --disabled-bg-color: #DDD;\n",
              "  }\n",
              "\n",
              "  [theme=dark] .colab-df-quickchart {\n",
              "      --bg-color: #3B4455;\n",
              "      --fill-color: #D2E3FC;\n",
              "      --hover-bg-color: #434B5C;\n",
              "      --hover-fill-color: #FFFFFF;\n",
              "      --disabled-bg-color: #3B4455;\n",
              "      --disabled-fill-color: #666;\n",
              "  }\n",
              "\n",
              "  .colab-df-quickchart {\n",
              "    background-color: var(--bg-color);\n",
              "    border: none;\n",
              "    border-radius: 50%;\n",
              "    cursor: pointer;\n",
              "    display: none;\n",
              "    fill: var(--fill-color);\n",
              "    height: 32px;\n",
              "    padding: 0;\n",
              "    width: 32px;\n",
              "  }\n",
              "\n",
              "  .colab-df-quickchart:hover {\n",
              "    background-color: var(--hover-bg-color);\n",
              "    box-shadow: 0 1px 2px rgba(60, 64, 67, 0.3), 0 1px 3px 1px rgba(60, 64, 67, 0.15);\n",
              "    fill: var(--button-hover-fill-color);\n",
              "  }\n",
              "\n",
              "  .colab-df-quickchart-complete:disabled,\n",
              "  .colab-df-quickchart-complete:disabled:hover {\n",
              "    background-color: var(--disabled-bg-color);\n",
              "    fill: var(--disabled-fill-color);\n",
              "    box-shadow: none;\n",
              "  }\n",
              "\n",
              "  .colab-df-spinner {\n",
              "    border: 2px solid var(--fill-color);\n",
              "    border-color: transparent;\n",
              "    border-bottom-color: var(--fill-color);\n",
              "    animation:\n",
              "      spin 1s steps(1) infinite;\n",
              "  }\n",
              "\n",
              "  @keyframes spin {\n",
              "    0% {\n",
              "      border-color: transparent;\n",
              "      border-bottom-color: var(--fill-color);\n",
              "      border-left-color: var(--fill-color);\n",
              "    }\n",
              "    20% {\n",
              "      border-color: transparent;\n",
              "      border-left-color: var(--fill-color);\n",
              "      border-top-color: var(--fill-color);\n",
              "    }\n",
              "    30% {\n",
              "      border-color: transparent;\n",
              "      border-left-color: var(--fill-color);\n",
              "      border-top-color: var(--fill-color);\n",
              "      border-right-color: var(--fill-color);\n",
              "    }\n",
              "    40% {\n",
              "      border-color: transparent;\n",
              "      border-right-color: var(--fill-color);\n",
              "      border-top-color: var(--fill-color);\n",
              "    }\n",
              "    60% {\n",
              "      border-color: transparent;\n",
              "      border-right-color: var(--fill-color);\n",
              "    }\n",
              "    80% {\n",
              "      border-color: transparent;\n",
              "      border-right-color: var(--fill-color);\n",
              "      border-bottom-color: var(--fill-color);\n",
              "    }\n",
              "    90% {\n",
              "      border-color: transparent;\n",
              "      border-bottom-color: var(--fill-color);\n",
              "    }\n",
              "  }\n",
              "</style>\n",
              "\n",
              "  <script>\n",
              "    async function quickchart(key) {\n",
              "      const quickchartButtonEl =\n",
              "        document.querySelector('#' + key + ' button');\n",
              "      quickchartButtonEl.disabled = true;  // To prevent multiple clicks.\n",
              "      quickchartButtonEl.classList.add('colab-df-spinner');\n",
              "      try {\n",
              "        const charts = await google.colab.kernel.invokeFunction(\n",
              "            'suggestCharts', [key], {});\n",
              "      } catch (error) {\n",
              "        console.error('Error during call to suggestCharts:', error);\n",
              "      }\n",
              "      quickchartButtonEl.classList.remove('colab-df-spinner');\n",
              "      quickchartButtonEl.classList.add('colab-df-quickchart-complete');\n",
              "    }\n",
              "    (() => {\n",
              "      let quickchartButtonEl =\n",
              "        document.querySelector('#df-c197ead7-1045-4a8e-ab49-5d1714d15fd3 button');\n",
              "      quickchartButtonEl.style.display =\n",
              "        google.colab.kernel.accessAllowed ? 'block' : 'none';\n",
              "    })();\n",
              "  </script>\n",
              "</div>\n",
              "\n",
              "  <div id=\"id_b7db0524-9fe3-4800-b7c1-4c70b326f1e4\">\n",
              "    <style>\n",
              "      .colab-df-generate {\n",
              "        background-color: #E8F0FE;\n",
              "        border: none;\n",
              "        border-radius: 50%;\n",
              "        cursor: pointer;\n",
              "        display: none;\n",
              "        fill: #1967D2;\n",
              "        height: 32px;\n",
              "        padding: 0 0 0 0;\n",
              "        width: 32px;\n",
              "      }\n",
              "\n",
              "      .colab-df-generate:hover {\n",
              "        background-color: #E2EBFA;\n",
              "        box-shadow: 0px 1px 2px rgba(60, 64, 67, 0.3), 0px 1px 3px 1px rgba(60, 64, 67, 0.15);\n",
              "        fill: #174EA6;\n",
              "      }\n",
              "\n",
              "      [theme=dark] .colab-df-generate {\n",
              "        background-color: #3B4455;\n",
              "        fill: #D2E3FC;\n",
              "      }\n",
              "\n",
              "      [theme=dark] .colab-df-generate:hover {\n",
              "        background-color: #434B5C;\n",
              "        box-shadow: 0px 1px 3px 1px rgba(0, 0, 0, 0.15);\n",
              "        filter: drop-shadow(0px 1px 2px rgba(0, 0, 0, 0.3));\n",
              "        fill: #FFFFFF;\n",
              "      }\n",
              "    </style>\n",
              "    <button class=\"colab-df-generate\" onclick=\"generateWithVariable('df')\"\n",
              "            title=\"Generate code using this dataframe.\"\n",
              "            style=\"display:none;\">\n",
              "\n",
              "  <svg xmlns=\"http://www.w3.org/2000/svg\" height=\"24px\"viewBox=\"0 0 24 24\"\n",
              "       width=\"24px\">\n",
              "    <path d=\"M7,19H8.4L18.45,9,17,7.55,7,17.6ZM5,21V16.75L18.45,3.32a2,2,0,0,1,2.83,0l1.4,1.43a1.91,1.91,0,0,1,.58,1.4,1.91,1.91,0,0,1-.58,1.4L9.25,21ZM18.45,9,17,7.55Zm-12,3A5.31,5.31,0,0,0,4.9,8.1,5.31,5.31,0,0,0,1,6.5,5.31,5.31,0,0,0,4.9,4.9,5.31,5.31,0,0,0,6.5,1,5.31,5.31,0,0,0,8.1,4.9,5.31,5.31,0,0,0,12,6.5,5.46,5.46,0,0,0,6.5,12Z\"/>\n",
              "  </svg>\n",
              "    </button>\n",
              "    <script>\n",
              "      (() => {\n",
              "      const buttonEl =\n",
              "        document.querySelector('#id_b7db0524-9fe3-4800-b7c1-4c70b326f1e4 button.colab-df-generate');\n",
              "      buttonEl.style.display =\n",
              "        google.colab.kernel.accessAllowed ? 'block' : 'none';\n",
              "\n",
              "      buttonEl.onclick = () => {\n",
              "        google.colab.notebook.generateWithVariable('df');\n",
              "      }\n",
              "      })();\n",
              "    </script>\n",
              "  </div>\n",
              "\n",
              "    </div>\n",
              "  </div>\n"
            ],
            "application/vnd.google.colaboratory.intrinsic+json": {
              "type": "dataframe",
              "variable_name": "df",
              "summary": "{\n  \"name\": \"df\",\n  \"rows\": 793,\n  \"fields\": [\n    {\n      \"column\": \"Unnamed: 0\",\n      \"properties\": {\n        \"dtype\": \"number\",\n        \"std\": 437,\n        \"min\": 1,\n        \"max\": 1434,\n        \"num_unique_values\": 793,\n        \"samples\": [\n          275,\n          397,\n          1381\n        ],\n        \"semantic_type\": \"\",\n        \"description\": \"\"\n      }\n    },\n    {\n      \"column\": \"Question\",\n      \"properties\": {\n        \"dtype\": \"category\",\n        \"num_unique_values\": 275,\n        \"samples\": [\n          \"Write about the following topic.Some people believe women are better leaders than men. To what extent do you agree or disagree with this statement?Give reasons for your answer and include any relevant examples from your own knowledge or experience.\",\n          \"Some people feel that with the rise of artificial intelligence, computers and robots will take over the roles of teachers. To what extent do you agree or disagree with this statement?Give reasons for your answer and include any relevant examples from your knowledge or experience.You should write at least 250 words.\",\n          \"Some people think that public health in a country can be improved by government making laws regarding nutritious food (agree/disagree).\"\n        ],\n        \"semantic_type\": \"\",\n        \"description\": \"\"\n      }\n    },\n    {\n      \"column\": \"Essay\",\n      \"properties\": {\n        \"dtype\": \"string\",\n        \"num_unique_values\": 711,\n        \"samples\": [\n          \"Art takes a big role in life , if we look around , we can see art around us everywhere , however some people think art in school is wasting time and teachers should focus on sience subjests , while others believe that art lessons is as important in school as math ,science and language. This article will explain in fully with reasons why art should be taught for children in school .\\nThere is understading that reading , writing and mathematics are the most topics we should concentrate our children to learn during school time and that idea is somehow correct but , some subjects like art , music and potery also play pivotal rolein our life however , speaking of art for instance , scientists claim that art can show creativity of child and help teachers to guide them to talented children , furthermore, children are different to show their expression , some of them find a better way in art to express their feelings and that will help teachers and even parents for better understanding for their children , also this way will help children to strenghten their confidence during study .\\nTo conclude , although as a general perception for some parents that the main purpose to send their children to the school is to learn reading , writing , math and other sciences , there is understaing that time also should be given to other topics like art in order to figure out and use skills that children have .\",\n          \"In recent years, news reports on TV programs and news papers tend to focus on incidents and emergencies rather than positive developments. In Japan, because of this phenomenon, many people are influenced this country might be more dangerous than they thought. I disagree with these tendencies and should focus on more positive developments, including entertainment.\\nTo go into detail, in Japan, once people turn on the TV in the morning. People face often face some news reports about a murder case, who were murdered, who is the criminal, and background details. In addition, there are more than 5 channels on TV, these all 5 channels broadcast the same incident at the same time. The Japanese government might take the control of media in order to agitate people to keep their attention on safety. It might be important to some extent, but it is not necessarily a good influence on people's mind if they were required to watch such a fierce, and negative incident every morning.\\nIn contrast, when it comes Japanese crime rate, and case. They reached a peak of 2014, and keep decreasing until now. The cases are not significant derrence, compared with a few dacase ago. In addition, almost Japanese crimes tend to be petty crimes, such as thefts, frauds, shop lifting, and so on. In terms of the murder case, Japan is ranked as the 5th safest country among 160 countries in 2017. This means that the more media reported the savage crimes, people misunderstand Japanese society is getting more dangerous than a few decades ago.\\nFinally, it is understandable to report such a heavy incident to some extent. On the other hand, they should also report positive and attractive news, such as tourism, especially inbound sales figures has been increasing and contributing to Japanese economic growth, and some Japanese athletes have been successful in MLB(major league baseball), and football. This news must be more fascinating for Japanese people to encourage their own national identity.\\nIn conclusion, this is not a black-and-white issue. But it might be more beneficial for people's minds to be positive. If some heavy incidents happened, the Japanese government should restrict TV companies to broadcasting only one channel, or limit the time shorter.\",\n          \"Most children are facing one form of bullying or the other in our schools on daily basis world wide. It is becoming a serious problem and there is a need to solve this. In this essay, we would be considering two causes and possible ways to solve these.\\nFirst of all, the rate at which children bullying each other in the school environment is rising. One major cause is that bullying breeds bullying, children who are faced with physical, mental and emotional abuse from homes tend to transfer their fustrations on their peers. They think that is how one is supposed to live, exacting authority to gain superiority on weaker peers in school. Another is children who has low self esteem, such students feels threatened over their classmates they taught to be more intelligent or having better physical appearance than them.\\nAlthough, there are several causes of bullying, teachers should be taught how to identify children who are from abusive homes and inform the appropriate authority. These students would taken away from such toxic environment early and they would be sent for some pschological therapy. Meanwhile, education is also a key factor especially for children who have low self esteem. This should be done by forms such as role plays, presentation and drama, where these students are taught how to have self love and accepting what they can not change on their self.\\nIn conclusion, children from abusive homes and those who have low self esteem are some of the reasons for bullying. I recommend that early identification of abusive children and education is some of the ways we can solve these problems.\"\n        ],\n        \"semantic_type\": \"\",\n        \"description\": \"\"\n      }\n    },\n    {\n      \"column\": \"AI Essay\",\n      \"properties\": {\n        \"dtype\": \"string\",\n        \"num_unique_values\": 793,\n        \"samples\": [\n          \"Some individuals argue that raising the price of fuel for cars and other vehicles is an effective solution for tackling environmental problems. While I understand that making fuel more expensive could encourage people to use their vehicles less frequently or turn to public transportation, I do not believe this is the best approach overall. Many people rely on cars for their daily lives, especially in places where alternative transportation is limited, so increasing the cost of fuel could create hardship for ordinary families without significantly reducing pollution. Instead, I believe governments should focus more on promoting the use of electric vehicles and improving public transport systems. For example, in my city, providing subsidies for electric cars and building more reliable bus routes has helped decrease pollution without causing financial stress to residents. Furthermore, stricter emissions standards for manufacturers could also push car companies to develop cleaner technologies. Although rising fuel costs might have some benefits for the environment, I think that combining incentives for cleaner energy with better transportation alternatives is a more balanced and effective way to address environmental challenges.\",\n          \"There is often debate about whether hosting an international sports event is ultimately beneficial or harmful to a country. Some people argue that such events put enormous strain on a nation's resources, particularly when it comes to building stadiums, improving transport, or boosting security. These critics point out that the financial burden can be overwhelming, especially for countries with limited budgets, and that money spent on stadiums or facilities might be better invested in education or healthcare. On the other hand, many supporters believe that international sports events can create positive opportunities for a country. These occasions attract tourists, generate global attention, and can help develop local infrastructure that benefits citizens well after the event is over. A good example is the 2012 London Olympics, where new transport links and sports centres continued to serve the local community long after the games ended. In my opinion, while the risks of overspending exist, the advantages of increased tourism, international prestige, and improved facilities can bring lasting value. Therefore, I believe the positives usually outweigh the negatives if the event is planned thoughtfully and managed responsibly.\",\n          \"The question of whether schools should select students according to their academic abilities is a subject of ongoing debate. Proponents of ability-based selection argue that it can foster a more focused learning environment, allowing students to progress at a pace suitable for their skills. By grouping pupils of similar academic levels together, teachers can tailor their lessons more precisely, avoiding both overwhelming less advanced students and boring more advanced ones. This targeted approach may provide an environment where gifted students are challenged and slower learners receive the support they need. On the other hand, opponents claim that dividing students by their grades can lead to negative social effects, such as decreased self-esteem among those placed in lower groups and a lack of diversity in the classroom. Mixed-ability classes, they argue, promote cooperation and empathy, as students of varying talents work and grow alongside one another. From my perspective, while grouping by ability can be beneficial for specific subjects like mathematics or science, overall, a mixed-ability environment better prepares students for the real world, where people of all backgrounds and skills must collaborate. Ultimately, education should not only focus on academic achievement but also on nurturing well-rounded individuals with social awareness and adaptability.\"\n        ],\n        \"semantic_type\": \"\",\n        \"description\": \"\"\n      }\n    },\n    {\n      \"column\": \"Examiner_Commen\",\n      \"properties\": {\n        \"dtype\": \"category\",\n        \"num_unique_values\": 62,\n        \"samples\": [\n          \"This essay covers the task. It has a good structure, however the conclusion paragraph is too big \\u2013 consider splitting it into 2 paragraphs, with the last one being the conclusion. As to the structure of sentences, there are several sentences that should be rephrased (see comments for suggestions). The grammar also needs some attention (see underlined in blue comments for details). Overall, this looks like a band 6.5 essay.\",\n          \"This essay is too short, 190 words instead of the minimum requirement of 250. It doesn\\u2019t say anything about girls being influenced by their mothers, which is also a part of the task \\u2013 therefore the task is only partially covered. The sentences are not complex enough, there are grammatical mistakes and inaccuracies (see comments underlined in blue). Overall, this looks like a Band 5.5 essay\",\n          \"The writer presented ideas and examples that are relevant and directly related to the topic. All parts of the question have been addressed and the arguments \\u2013 sufficiently supported. The ideas have been presented in a logical way, with the writer\\u2019s opinion in the introduction paragraph, followed by the discussion of the two views and a conclusion. The paragraphs have been used correctly, each containing a well-developed idea. This essay has plenty of uncommon lexical items (terms related to this particular topic) which have been used appropriately and spelled correctly. There is a variety of complex sentence structures, the writer has good control of punctuation, and the majority of their sentences are error-free. This essay is likely to get Band 8 \\u2013 8.5 in IELTS.\"\n        ],\n        \"semantic_type\": \"\",\n        \"description\": \"\"\n      }\n    },\n    {\n      \"column\": \"Overall\",\n      \"properties\": {\n        \"dtype\": \"number\",\n        \"std\": 1.0878990026085575,\n        \"min\": 3.0,\n        \"max\": 9.0,\n        \"num_unique_values\": 13,\n        \"samples\": [\n          3.0,\n          3.5,\n          6.5\n        ],\n        \"semantic_type\": \"\",\n        \"description\": \"\"\n      }\n    }\n  ]\n}"
            }
          },
          "metadata": {},
          "execution_count": 6
        }
      ],
      "source": [
        "df"
      ]
    },
    {
      "cell_type": "markdown",
      "id": "f6ee3646",
      "metadata": {
        "id": "f6ee3646"
      },
      "source": [
        "<h2>Preprocessing</h2>"
      ]
    },
    {
      "cell_type": "code",
      "execution_count": null,
      "id": "3d8505cd",
      "metadata": {
        "id": "3d8505cd"
      },
      "outputs": [],
      "source": [
        "def preprocess(df, label_non_alpha=True, lowercase=True, lemmatize=True, drop_stopwords=True):\n",
        "    # copy the input DataFrame\n",
        "    df2 = df.copy()\n",
        "\n",
        "    # remove all nonalphabetic characters via regex\n",
        "    currency_pattern = re.compile(r\"\\$[\\d,]*\\d+(?:\\.?\\d+)?\")\n",
        "    percent_pattern = re.compile(r\"-?[\\d,]*\\d+(?:\\.?\\d+)?%\")\n",
        "    number_pattern = re.compile(r\"-?[\\d,]*\\d+(?:\\.?\\d+)?\")\n",
        "    punctuation_pattern = re.compile(r\"\"\"[-.,:;’–`!?´'\"“”()/‘]*\"\"\")\n",
        "\n",
        "    def filter_characters(essay):\n",
        "        if label_non_alpha:\n",
        "            essay = re.sub(currency_pattern, 'CURRENCYPLACEHOLDER ', essay)\n",
        "            essay = re.sub(percent_pattern, \"PERCENTPLACEHOLDER \", essay)\n",
        "            essay = re.sub(number_pattern, 'NUMBERPLACEHOLDER ', essay)\n",
        "            essay = re.sub(punctuation_pattern, \"\", essay)\n",
        "            essay = re.sub(\"[^a-zA-Z\\s]\", \"SPECIALCHARPLACEHOLDER \", essay)\n",
        "            essay = re.sub(\"\\s+\", \" \", essay)\n",
        "        else:\n",
        "            essay = re.sub(\"[^a-zA-Z\\s]\", \"\", essay)\n",
        "            essay = re.sub(\"\\s+\", \" \", essay)\n",
        "        return essay\n",
        "\n",
        "    df2[\"Essay\"] = df[\"Essay\"].apply(filter_characters)\n",
        "    df2[\"AI Essay\"] = df[\"AI Essay\"].apply(filter_characters)\n",
        "\n",
        "    if lowercase:\n",
        "        df2[\"Essay\"] = df2[\"Essay\"].str.lower()\n",
        "        df2[\"AI Essay\"] = df2[\"AI Essay\"].str.lower()\n",
        "\n",
        "    if lemmatize:\n",
        "        def get_lemmas(essay):\n",
        "            def treebank_to_wordnet(treebank_tag):\n",
        "                if treebank_tag.startswith('J'):\n",
        "                    return wordnet.ADJ\n",
        "                elif treebank_tag.startswith('V'):\n",
        "                    return wordnet.VERB\n",
        "                elif treebank_tag.startswith('N'):\n",
        "                    return wordnet.NOUN\n",
        "                elif treebank_tag.startswith('R'):\n",
        "                    return wordnet.ADV\n",
        "                else:\n",
        "                    return None\n",
        "\n",
        "            lemmatizer = WordNetLemmatizer()\n",
        "            if drop_stopwords:\n",
        "              words = [word for word in word_tokenize(essay) if word not in nltk.corpus.stopwords.words('english')]\n",
        "            else:\n",
        "              words = word_tokenize(essay)\n",
        "            pos_tags = nltk.pos_tag(words, lang=\"eng\")\n",
        "\n",
        "            lemmatized_words = []\n",
        "            for word, pos in pos_tags:\n",
        "                wn_pos = treebank_to_wordnet(pos) or wordnet.NOUN\n",
        "                lemma = lemmatizer.lemmatize(word, wn_pos)\n",
        "                lemmatized_words.append(lemma)\n",
        "\n",
        "            return \" \".join(lemmatized_words)\n",
        "\n",
        "        df2[\"Essay\"] = df2[\"Essay\"].apply(get_lemmas)\n",
        "        df2[\"AI Essay\"] = df2[\"AI Essay\"].apply(get_lemmas)\n",
        "\n",
        "    return df2"
      ]
    },
    {
      "cell_type": "code",
      "execution_count": null,
      "id": "6dde0b9b",
      "metadata": {
        "id": "6dde0b9b"
      },
      "outputs": [],
      "source": [
        "# df2 = preprocess(df)\n",
        "df3 = preprocess(df, drop_stopwords=False)"
      ]
    },
    {
      "cell_type": "code",
      "execution_count": null,
      "id": "zgLqy3djWg5I",
      "metadata": {
        "id": "zgLqy3djWg5I"
      },
      "outputs": [],
      "source": [
        "df5.to_csv(\"preprocessed_essays_no_placeholders\")"
      ]
    },
    {
      "cell_type": "code",
      "execution_count": null,
      "id": "bfe9d3c6",
      "metadata": {
        "colab": {
          "base_uri": "https://localhost:8080/"
        },
        "id": "bfe9d3c6",
        "outputId": "fa2125b0-6b19-47c5-af7d-e3ceeb312ab3"
      },
      "outputs": [
        {
          "name": "stdout",
          "output_type": "stream",
          "text": [
            "311\n",
            "one important issue lot massive place earth mammoth food waste let discuss figure less problem firstly many reason like big celebration something popular happen lot also see adays restrants almost every people day like go always famous thing junk food cheap consequently visitor look fast thing busy others buy need hungry secondly help issue many way first know calorie eat need also spend much money reasrant make dreadful let body ask fast food however curcial buy stuff really need cook home move huge event significant make sure many people come breing food need want buy food must think sasted ask significant end important proplem take car start solve let human know problem\n"
          ]
        }
      ],
      "source": [
        "idx = np.random.choice(df2.index)\n",
        "print(idx)\n",
        "print(df2.loc[idx, \"Essay\"])"
      ]
    },
    {
      "cell_type": "code",
      "execution_count": null,
      "id": "347ba652",
      "metadata": {
        "colab": {
          "base_uri": "https://localhost:8080/",
          "height": 122
        },
        "id": "347ba652",
        "outputId": "036c225c-32d9-4544-95c5-7ab4e8835b91"
      },
      "outputs": [
        {
          "data": {
            "application/vnd.google.colaboratory.intrinsic+json": {
              "type": "string"
            },
            "text/plain": [
              "'one of the important issues of a lot of massive places on the earth is the mammoth food that is wasted let is discuss more about why and what we can figure out to less this problem.\\nFirstly, there is many reasons, like the big celebrations which are something popular that happen a lot, also we can see that now adays restrants being almost every where so people these days like to go there always than before, and the most famous things is the junk food which is so cheap consequently more visitors that looking for a fast things because they are busy, while others who buy more than they need because they are hungry.\\nSecondly, we can help that issues by many ways, first is by knowing your calories; you will eat just what you need, also do not spend much of money in reasrant because it makes you dreadful by let your body ask for more fast food however, it is curcial to only buy the stuff you really needed only and cook in your home, moving to the huge events it is significant to make sure of how many people who will come so you breing foods as the needed, and when we want to buy foods we must think if it will be sasted or not and ask ourselves if it is significant.\\nAt the end, this is a important proplem that we should take car of and start to solve it and let more humans know about this problem.'"
            ]
          },
          "execution_count": 73,
          "metadata": {},
          "output_type": "execute_result"
        }
      ],
      "source": [
        "df.loc[idx, \"Essay\"]"
      ]
    },
    {
      "cell_type": "code",
      "execution_count": null,
      "id": "a033eb31",
      "metadata": {
        "colab": {
          "base_uri": "https://localhost:8080/"
        },
        "id": "a033eb31",
        "outputId": "c23c89bc-1df6-4238-ebe1-7367b08466dd"
      },
      "outputs": [
        {
          "name": "stdout",
          "output_type": "stream",
          "text": [
            "3\n"
          ]
        }
      ],
      "source": [
        "a = 0\n",
        "b = 3\n",
        "c = a or b\n",
        "print(c)"
      ]
    },
    {
      "cell_type": "code",
      "execution_count": null,
      "id": "EBZQnpNmQCgx",
      "metadata": {
        "id": "EBZQnpNmQCgx"
      },
      "outputs": [],
      "source": [
        "# df3 = pd.read_csv(\"preprocessed_essays_with_stopwords.csv\")"
      ]
    },
    {
      "cell_type": "markdown",
      "id": "ZUQi4kxPxVdT",
      "metadata": {
        "id": "ZUQi4kxPxVdT"
      },
      "source": [
        "<h2>Feature Engineering</h2>"
      ]
    },
    {
      "cell_type": "markdown",
      "id": "XG9eCTQT14fh",
      "metadata": {
        "id": "XG9eCTQT14fh"
      },
      "source": [
        "<h4>Word Count Analysis</h4>"
      ]
    },
    {
      "cell_type": "code",
      "source": [],
      "metadata": {
        "id": "Rtnep6tYVTTz"
      },
      "id": "Rtnep6tYVTTz",
      "execution_count": null,
      "outputs": []
    },
    {
      "cell_type": "code",
      "execution_count": null,
      "id": "3T2KVGbExYG-",
      "metadata": {
        "id": "3T2KVGbExYG-"
      },
      "outputs": [],
      "source": [
        "word_counts = {}\n",
        "for essay in df3[\"Essay\"] + df3[\"AI Essay\"]:\n",
        "  for word in essay.split(\" \"):\n",
        "    if word in word_counts:\n",
        "      word_counts[word] += 1\n",
        "    else:\n",
        "      word_counts[word] = 1"
      ]
    },
    {
      "cell_type": "code",
      "execution_count": null,
      "id": "bc-ioBgOyp-g",
      "metadata": {
        "colab": {
          "base_uri": "https://localhost:8080/"
        },
        "id": "bc-ioBgOyp-g",
        "outputId": "0643e85c-99ba-4851-a4ae-a2b8554e8220"
      },
      "outputs": [
        {
          "output_type": "stream",
          "name": "stdout",
          "text": [
            "16548\n"
          ]
        }
      ],
      "source": [
        "print(max(word_counts.values()))"
      ]
    },
    {
      "cell_type": "code",
      "execution_count": null,
      "id": "S7WQ88wAyq4G",
      "metadata": {
        "colab": {
          "base_uri": "https://localhost:8080/",
          "height": 472
        },
        "id": "S7WQ88wAyq4G",
        "outputId": "f06f9dd3-ec4a-45c1-d0b4-9f8b99794a81"
      },
      "outputs": [
        {
          "output_type": "display_data",
          "data": {
            "text/plain": [
              "<Figure size 640x480 with 1 Axes>"
            ],
            "image/png": "[encoded data removed]"
          },
          "metadata": {}
        }
      ],
      "source": [
        "plt.title(\"Word Frequencies - Zoomed View\")\n",
        "plt.hist(word_counts.values(), bins = 100)\n",
        "plt.ylabel(\"Number of Words\")\n",
        "plt.xlabel(\"Frequency\")\n",
        "# plt.xlim(0, 50)\n",
        "plt.show()"
      ]
    },
    {
      "cell_type": "code",
      "execution_count": null,
      "id": "96GqCw2hy3GW",
      "metadata": {
        "colab": {
          "base_uri": "https://localhost:8080/"
        },
        "id": "96GqCw2hy3GW",
        "outputId": "4f4816f4-1dad-425b-b3cb-52758e9ab92c"
      },
      "outputs": [
        {
          "name": "stdout",
          "output_type": "stream",
          "text": [
            "41140\n",
            "0.3134930008915576\n"
          ]
        }
      ],
      "source": [
        "total = 0\n",
        "# for ct in sorted(word_counts.values(), reverse=True)[:int(0.117*len(word_counts))]:\n",
        "for ct in sorted(word_counts.values(), reverse=True)[:100]:\n",
        "  total += ct\n",
        "print(total)\n",
        "print(total / sum(word_counts.values()))"
      ]
    },
    {
      "cell_type": "code",
      "execution_count": null,
      "id": "w26fZzqs0zOR",
      "metadata": {
        "colab": {
          "base_uri": "https://localhost:8080/"
        },
        "id": "w26fZzqs0zOR",
        "outputId": "53e9f271-3c12-4eb7-cbcd-0f21b26f919f"
      },
      "outputs": [
        {
          "name": "stdout",
          "output_type": "stream",
          "text": [
            "4578\n",
            "0.45725129844186974\n"
          ]
        }
      ],
      "source": [
        "threshold = 1\n",
        "less_than_threshold = 0\n",
        "for ct in word_counts.values():\n",
        "  if ct <= threshold:\n",
        "    less_than_threshold += 1\n",
        "print(less_than_threshold)\n",
        "print(less_than_threshold / len(word_counts))"
      ]
    },
    {
      "cell_type": "code",
      "execution_count": null,
      "id": "XumzHa3_z6-e",
      "metadata": {
        "colab": {
          "base_uri": "https://localhost:8080/"
        },
        "id": "XumzHa3_z6-e",
        "outputId": "a30268b4-3c36-47d3-db6b-e4cb7552588b"
      },
      "outputs": [
        {
          "data": {
            "text/plain": [
              "1171.404"
            ]
          },
          "execution_count": 30,
          "metadata": {},
          "output_type": "execute_result"
        }
      ],
      "source": [
        "0.117 * len(word_counts)"
      ]
    },
    {
      "cell_type": "code",
      "execution_count": null,
      "id": "xoDZZ5Ov0Wqi",
      "metadata": {
        "id": "xoDZZ5Ov0Wqi"
      },
      "outputs": [],
      "source": [
        "word_counts = {}\n",
        "for essay in df2[\"AI Essay\"]:\n",
        "  for word in essay.split(\" \"):\n",
        "    if word in word_counts:\n",
        "      word_counts[word] += 1\n",
        "    else:\n",
        "      word_counts[word] = 1"
      ]
    },
    {
      "cell_type": "code",
      "execution_count": null,
      "id": "5DC2nUT71ahK",
      "metadata": {
        "colab": {
          "base_uri": "https://localhost:8080/"
        },
        "id": "5DC2nUT71ahK",
        "outputId": "f410bad3-79a8-4978-f590-104e2f0bbc20"
      },
      "outputs": [
        {
          "data": {
            "text/plain": [
              "5522"
            ]
          },
          "execution_count": 43,
          "metadata": {},
          "output_type": "execute_result"
        }
      ],
      "source": [
        "len(word_counts)"
      ]
    },
    {
      "cell_type": "code",
      "execution_count": null,
      "id": "ivYAJ6Du1a27",
      "metadata": {
        "colab": {
          "base_uri": "https://localhost:8080/",
          "height": 430
        },
        "id": "ivYAJ6Du1a27",
        "outputId": "0a2e9652-f417-4ec5-c343-d5d32fd1f82e"
      },
      "outputs": [
        {
          "data": {
            "image/png": "[encoded data removed]",
            "text/plain": [
              "<Figure size 640x480 with 1 Axes>"
            ]
          },
          "metadata": {},
          "output_type": "display_data"
        }
      ],
      "source": [
        "plt.hist(word_counts.values(), bins=100)\n",
        "plt.show()"
      ]
    },
    {
      "cell_type": "code",
      "execution_count": null,
      "id": "Tfoip5TZ1fQq",
      "metadata": {
        "colab": {
          "base_uri": "https://localhost:8080/"
        },
        "id": "Tfoip5TZ1fQq",
        "outputId": "6e2a0226-75d0-416f-cda8-9e1fc7cfdcab"
      },
      "outputs": [
        {
          "name": "stdout",
          "output_type": "stream",
          "text": [
            "31022\n",
            "0.3250078575170246\n"
          ]
        }
      ],
      "source": [
        "total = 0\n",
        "# for ct in sorted(word_counts.values(), reverse=True)[:int(0.117*len(word_counts))]:\n",
        "for ct in sorted(word_counts.values(), reverse=True)[:100]:\n",
        "  total += ct\n",
        "print(total)\n",
        "print(total / sum(word_counts.values()))"
      ]
    },
    {
      "cell_type": "code",
      "execution_count": null,
      "id": "3wxhm7AG1g5U",
      "metadata": {
        "colab": {
          "base_uri": "https://localhost:8080/"
        },
        "id": "3wxhm7AG1g5U",
        "outputId": "09d6a376-942a-4777-84b5-a3248305a1e4"
      },
      "outputs": [
        {
          "name": "stdout",
          "output_type": "stream",
          "text": [
            "1907\n",
            "0.3453458891705904\n"
          ]
        }
      ],
      "source": [
        "threshold = 1\n",
        "less_than_threshold = 0\n",
        "for ct in word_counts.values():\n",
        "  if ct <= threshold:\n",
        "    less_than_threshold += 1\n",
        "print(less_than_threshold)\n",
        "print(less_than_threshold / len(word_counts))"
      ]
    },
    {
      "cell_type": "markdown",
      "id": "Dtsj5HCh2Cqe",
      "metadata": {
        "id": "Dtsj5HCh2Cqe"
      },
      "source": [
        "<h4>Train Test Split</h4>"
      ]
    },
    {
      "cell_type": "code",
      "execution_count": null,
      "id": "mQqFuyC32EdM",
      "metadata": {
        "id": "mQqFuyC32EdM"
      },
      "outputs": [],
      "source": [
        "train_df, test_df = train_test_split(df3, test_size=100, random_state=7934642)\n",
        "# train_df.to_csv(\"preprocessed_train_without_placeholders.csv\")\n",
        "# test_df.to_csv(\"preprocessed_test_without_placeholders.csv\")"
      ]
    },
    {
      "cell_type": "markdown",
      "id": "WkbljvMt3xuU",
      "metadata": {
        "id": "WkbljvMt3xuU"
      },
      "source": [
        "<h4>Co-occurence Matrices</h4>"
      ]
    },
    {
      "cell_type": "code",
      "execution_count": null,
      "id": "7cae437d",
      "metadata": {
        "id": "7cae437d"
      },
      "outputs": [],
      "source": [
        "class MatrixBuilder(object):\n",
        "  def __init__(self):\n",
        "    self.is_fit = False\n",
        "    self.words = None\n",
        "    self.tfidf = None\n",
        "    self.num_words = None\n",
        "    self.covar = None\n",
        "\n",
        "  def fit(self, essays, num_words=100):\n",
        "    self.num_words = num_words\n",
        "\n",
        "    # get word count matrix\n",
        "    word_counts = {}\n",
        "    for essay in essays:\n",
        "      for word in essay.split(\" \"):\n",
        "        if word in word_counts:\n",
        "          word_counts[word] += 1\n",
        "        else:\n",
        "          word_counts[word] = 1\n",
        "\n",
        "    # sort the word count matrix and retain the most common 'num_words' words\n",
        "    self.words = sorted(word_counts.keys(), key=lambda value: word_counts[value], reverse=True)[:num_words]\n",
        "    self.is_fit = True\n",
        "\n",
        "    # fit the TFIDF vectorizer object\n",
        "    self.tfidf = TfidfVectorizer(vocabulary=self.words)\n",
        "    self.tfidf.fit(essays)\n",
        "\n",
        "    # create frequencies covariance array\n",
        "    self.covar = np.cov([[float(word in essay) for essay in essays] for word in self.words])\n",
        "\n",
        "  def build_matrix(self, essay):\n",
        "    matrix = np.zeros((self.num_words, self.num_words))\n",
        "\n",
        "    # construct matrix diagonal\n",
        "    tfidf_values = self.tfidf.transform([essay])\n",
        "    for i, word in enumerate(self.words):\n",
        "      matrix[i, i] = tfidf_values[0, i]\n",
        "\n",
        "    # construct lower triangular component\n",
        "    words = essay.split(\" \")\n",
        "    for i, word_1 in enumerate(self.words):\n",
        "      for j, word_2 in enumerate(self.words):\n",
        "        if j >= i: # only fill in lower triangular component\n",
        "          continue\n",
        "        else:\n",
        "          ct_1 = words.count(word_1)\n",
        "          ct_2 = words.count(word_2)\n",
        "          matrix[i, j] = max(ct_1, ct_2) if min(ct_1, ct_2) > 0 else 0\n",
        "\n",
        "    # construct upper triangular component\n",
        "    for i in range(self.num_words):\n",
        "      for j in range(self.num_words):\n",
        "        if j <= i:\n",
        "          continue\n",
        "        else:\n",
        "          matrix[i, j] = self.covar[i, j] / self.covar[i, i] / self.covar[j, j]\n",
        "          matrix[i, j] = (1 + matrix[j, i]) / matrix[i, j]\n",
        "\n",
        "    return matrix.reshape(1, -1)\n",
        "\n",
        "\n",
        "  def transform(self, df):\n",
        "    if not self.is_fit:\n",
        "      raise Exception(\"MatrixBuilder not fit\")\n",
        "\n",
        "    X = np.empty((2*len(df), self.num_words**2))\n",
        "    y = np.empty(2*len(df))\n",
        "    z = np.empty(2*len(df)) # indices in df corresponding to this row in X and y\n",
        "\n",
        "    for i, idx in tqdm(enumerate(df.index)):\n",
        "      essay = df.loc[idx, \"Essay\"]\n",
        "      ai_essay = df.loc[idx, \"AI Essay\"]\n",
        "\n",
        "      X[2*i, :] = self.build_matrix(essay)\n",
        "      X[2*i+1, :] = self.build_matrix(ai_essay)\n",
        "\n",
        "      y[2*i] = 0\n",
        "      y[2*i+1] = 1\n",
        "\n",
        "      z[2*i] = idx\n",
        "      z[2*i+1] = idx\n",
        "\n",
        "    return X, y, z"
      ]
    },
    {
      "cell_type": "code",
      "execution_count": null,
      "id": "1RaCnTewUnJV",
      "metadata": {
        "colab": {
          "base_uri": "https://localhost:8080/"
        },
        "id": "1RaCnTewUnJV",
        "outputId": "6ef58ee0-c360-444a-b521-e4ae0ca60434"
      },
      "outputs": [
        {
          "output_type": "stream",
          "name": "stderr",
          "text": [
            "\r0it [00:00, ?it/s]<ipython-input-39-70a3b8947978>:57: RuntimeWarning: invalid value encountered in scalar divide\n",
            "  matrix[i, j] = self.covar[i, j] / self.covar[i, i] / self.covar[j, j]\n",
            "693it [01:48,  6.39it/s]\n"
          ]
        }
      ],
      "source": [
        "matrix_builder = MatrixBuilder()\n",
        "matrix_builder.fit(train_df[\"Essay\"] + train_df[\"AI Essay\"], num_words=100)\n",
        "X_train, y_train, train_indices = matrix_builder.transform(train_df)\n",
        "\n",
        "# matrix_builder_test = MatrixBuilder()\n",
        "# matrix_builder_test.fit(test_df[\"Essay\"] + test_df[\"AI Essay\"], num_words=100)\n",
        "# X_test, y_test, test_indices = matrix_builder_test.transform(test_df)"
      ]
    },
    {
      "cell_type": "code",
      "source": [
        "[word for word in matrix_builder.words[:50] if word in set(nltk.corpus.stopwords.words('english'))]"
      ],
      "metadata": {
        "colab": {
          "base_uri": "https://localhost:8080/"
        },
        "id": "KzqRqQKRdY0k",
        "outputId": "3389f3f4-7cd9-4430-d9b2-5b691bf39e1e"
      },
      "id": "KzqRqQKRdY0k",
      "execution_count": null,
      "outputs": [
        {
          "output_type": "execute_result",
          "data": {
            "text/plain": [
              "['the',\n",
              " 'be',\n",
              " 'to',\n",
              " 'and',\n",
              " 'a',\n",
              " 'of',\n",
              " 'in',\n",
              " 'that',\n",
              " 'for',\n",
              " 'it',\n",
              " 'have',\n",
              " 'can',\n",
              " 'their',\n",
              " 'this',\n",
              " 'on',\n",
              " 'or',\n",
              " 'more',\n",
              " 'they',\n",
              " 'with',\n",
              " 'not',\n",
              " 'i',\n",
              " 'some',\n",
              " 'by',\n",
              " 'should',\n",
              " 'from',\n",
              " 'which',\n",
              " 'will',\n",
              " 'there',\n",
              " 'other',\n",
              " 'such',\n",
              " 'do',\n",
              " 'an',\n",
              " 'them',\n",
              " 'if',\n",
              " 'but',\n",
              " 'while']"
            ]
          },
          "metadata": {},
          "execution_count": 43
        }
      ]
    },
    {
      "cell_type": "code",
      "execution_count": null,
      "id": "lZYbOY8BfJDE",
      "metadata": {
        "id": "lZYbOY8BfJDE"
      },
      "outputs": [],
      "source": [
        "np.save(\"X_train_without_placeholders.npy\", X_train)\n",
        "np.save(\"y_train_without_placeholders.npy\", y_train)\n",
        "\n",
        "np.save(\"X_test_without_placeholders.npy\", X_test)\n",
        "np.save(\"y_test_without_placeholders.npy\", y_test)"
      ]
    },
    {
      "cell_type": "code",
      "execution_count": null,
      "id": "xxT-CUGqCUgV",
      "metadata": {
        "colab": {
          "base_uri": "https://localhost:8080/"
        },
        "id": "xxT-CUGqCUgV",
        "outputId": "2db81ea4-91cb-49c6-d308-efbad3519ea7"
      },
      "outputs": [
        {
          "name": "stdout",
          "output_type": "stream",
          "text": [
            "(1386, 36)\n"
          ]
        }
      ],
      "source": [
        "print(X_train.shape)"
      ]
    },
    {
      "cell_type": "code",
      "execution_count": null,
      "id": "xfFCWTzASC-Z",
      "metadata": {
        "id": "xfFCWTzASC-Z"
      },
      "outputs": [],
      "source": [
        "def plot_matrix(X_train, i):\n",
        "  X = X_train.copy()\n",
        "\n",
        "  # rescale for plotting purposes\n",
        "  min_val = X.min()\n",
        "  max_val = X.max()\n",
        "  image = (X[i] - min_val) / (max_val - min_val)\n",
        "\n",
        "  # plot\n",
        "  n = int(X.shape[1] ** 0.5)\n",
        "  plt.imshow(image.reshape(n, n), vmin=0, vmax=1, cmap=\"gray\")\n",
        "  plt.axis(\"off\")\n",
        "  plt.show()\n",
        "\n",
        "  # print for debugging purposes\n",
        "  print(image.reshape(n, n))"
      ]
    },
    {
      "cell_type": "code",
      "execution_count": null,
      "id": "FjAR8GE1O0zO",
      "metadata": {
        "colab": {
          "base_uri": "https://localhost:8080/",
          "height": 528
        },
        "id": "FjAR8GE1O0zO",
        "outputId": "357b153e-46ad-44c6-9a88-42d33809ed6c"
      },
      "outputs": [
        {
          "data": {
            "image/png": "[encoded data removed]",
            "text/plain": [
              "<Figure size 640x480 with 1 Axes>"
            ]
          },
          "metadata": {},
          "output_type": "display_data"
        },
        {
          "name": "stdout",
          "output_type": "stream",
          "text": [
            "[[0.32897877 0.32858841 0.32918615 ... 0.32998249 0.32774202 0.32590933]\n",
            " [0.32918348 0.32899518 0.32890363 ... 0.33105341 0.3298781  0.3286075 ]\n",
            " [0.32897359 0.32897359 0.32897359 ... 0.32915437 0.3288481  0.32864872]\n",
            " ...\n",
            " [0.32897359 0.32897359 0.32897359 ... 0.32897359 0.32885882 0.32945625]\n",
            " [0.32907853 0.32918348 0.32897359 ... 0.32897359 0.32897764 0.32846206]\n",
            " [0.32897359 0.32897359 0.32897359 ... 0.32897359 0.32897359 0.32897359]]\n"
          ]
        }
      ],
      "source": [
        "# rescale pixel values to fall within uniform range\n",
        "plot_matrix(X_train, 0)"
      ]
    },
    {
      "cell_type": "code",
      "execution_count": null,
      "id": "Hrr208zAO2sq",
      "metadata": {
        "colab": {
          "base_uri": "https://localhost:8080/",
          "height": 528
        },
        "id": "Hrr208zAO2sq",
        "outputId": "58beb992-dfe4-46be-da7e-62a210bba1ba"
      },
      "outputs": [
        {
          "data": {
            "image/png": "[encoded data removed]",
            "text/plain": [
              "<Figure size 640x480 with 1 Axes>"
            ]
          },
          "metadata": {},
          "output_type": "display_data"
        },
        {
          "name": "stdout",
          "output_type": "stream",
          "text": [
            "[[0.32897359 0.32891856 0.32918615 ... 0.32998249 0.3286657  0.32590933]\n",
            " [0.32897359 0.32898556 0.32890363 ... 0.33521305 0.3291028  0.3286075 ]\n",
            " [0.32897359 0.32897359 0.32897359 ... 0.32915437 0.3288481  0.32864872]\n",
            " ...\n",
            " [0.32897359 0.32904355 0.32897359 ... 0.32898025 0.32885882 0.32945625]\n",
            " [0.32897359 0.32897359 0.32897359 ... 0.32897359 0.32897359 0.32846206]\n",
            " [0.32897359 0.32897359 0.32897359 ... 0.32897359 0.32897359 0.32897359]]\n"
          ]
        }
      ],
      "source": [
        "plot_matrix(X_train, 1)"
      ]
    },
    {
      "cell_type": "code",
      "execution_count": null,
      "id": "0iVTlfDKPMxA",
      "metadata": {
        "colab": {
          "base_uri": "https://localhost:8080/",
          "height": 528
        },
        "id": "0iVTlfDKPMxA",
        "outputId": "036799b3-9b48-4f7d-ed8a-558e77aa4e10"
      },
      "outputs": [
        {
          "data": {
            "image/png": "[encoded data removed]",
            "text/plain": [
              "<Figure size 640x480 with 1 Axes>"
            ]
          },
          "metadata": {},
          "output_type": "display_data"
        },
        {
          "name": "stdout",
          "output_type": "stream",
          "text": [
            "[[0.32897359 0.32891856 0.32918615 ... 0.32998249 0.3286657  0.32590933]\n",
            " [0.32897359 0.32897359 0.32890363 ... 0.33105341 0.3291028  0.3286075 ]\n",
            " [0.32897359 0.32897359 0.32897359 ... 0.32915437 0.3288481  0.32864872]\n",
            " ...\n",
            " [0.32897359 0.32897359 0.32897359 ... 0.32897359 0.32885882 0.32945625]\n",
            " [0.32897359 0.32897359 0.32897359 ... 0.32897359 0.32897359 0.32846206]\n",
            " [0.32897359 0.32897359 0.32897359 ... 0.32897359 0.32897359 0.32897359]]\n"
          ]
        }
      ],
      "source": [
        "plot_matrix(X_train, 2)"
      ]
    },
    {
      "cell_type": "code",
      "execution_count": null,
      "id": "Q-uxVBg8SjOx",
      "metadata": {
        "colab": {
          "base_uri": "https://localhost:8080/",
          "height": 528
        },
        "id": "Q-uxVBg8SjOx",
        "outputId": "17c9fa4d-2ec1-48cb-a712-295c1c4fdb50"
      },
      "outputs": [
        {
          "data": {
            "image/png": "[encoded data removed]",
            "text/plain": [
              "<Figure size 640x480 with 1 Axes>"
            ]
          },
          "metadata": {},
          "output_type": "display_data"
        },
        {
          "name": "stdout",
          "output_type": "stream",
          "text": [
            "[[0.32897359 0.32891856 0.32918615 ... 0.32998249 0.3286657  0.32590933]\n",
            " [0.32897359 0.32897359 0.32890363 ... 0.33105341 0.3291028  0.3286075 ]\n",
            " [0.32897359 0.32897359 0.32897359 ... 0.32915437 0.3288481  0.32864872]\n",
            " ...\n",
            " [0.32897359 0.32897359 0.32897359 ... 0.32897359 0.32885882 0.32945625]\n",
            " [0.32897359 0.32897359 0.32897359 ... 0.32897359 0.32897359 0.32846206]\n",
            " [0.32897359 0.32897359 0.32897359 ... 0.32897359 0.32897359 0.32897359]]\n"
          ]
        }
      ],
      "source": [
        "plot_matrix(X_train, 3)"
      ]
    },
    {
      "cell_type": "markdown",
      "source": [],
      "metadata": {
        "id": "Lu84rlA5AXz3"
      },
      "id": "Lu84rlA5AXz3"
    },
    {
      "cell_type": "code",
      "execution_count": null,
      "id": "oF_Q1fM_T_Vc",
      "metadata": {
        "colab": {
          "base_uri": "https://localhost:8080/"
        },
        "id": "oF_Q1fM_T_Vc",
        "outputId": "6c8bc280-0b93-4545-f5b2-31c70ce28962"
      },
      "outputs": [
        {
          "name": "stdout",
          "output_type": "stream",
          "text": [
            "1\n",
            "94\n",
            "178\n",
            "368\n",
            "433\n",
            "652\n"
          ]
        }
      ],
      "source": [
        "for i in range(int(X_train.shape[0] / 2)):\n",
        "  if np.allclose(X_train[2*i], X_train[2*i+1]):\n",
        "    print(i)"
      ]
    },
    {
      "cell_type": "code",
      "execution_count": null,
      "id": "oRnifcHIaUFj",
      "metadata": {
        "colab": {
          "base_uri": "https://localhost:8080/"
        },
        "id": "oRnifcHIaUFj",
        "outputId": "8f1dc8e0-8ef1-4415-f44b-b32e0cba94cb"
      },
      "outputs": [
        {
          "data": {
            "text/plain": [
              "array([  0.14823654,  -1.57298782,   6.07647622, ...,   9.13195229,\n",
              "       -10.7411117 , -48.58210072])"
            ]
          },
          "execution_count": 229,
          "metadata": {},
          "output_type": "execute_result"
        }
      ],
      "source": [
        "np.diag(X_train)"
      ]
    },
    {
      "cell_type": "code",
      "source": [
        "from scipy.stats import t\n",
        "import numpy as np\n",
        "\n",
        "y_correct = np.load(\"\")"
      ],
      "metadata": {
        "id": "npOp9fB5w31U"
      },
      "id": "npOp9fB5w31U",
      "execution_count": null,
      "outputs": []
    }
  ],
  "metadata": {
    "colab": {
      "provenance": []
    },
    "kernelspec": {
      "display_name": "Python 3 (ipykernel)",
      "language": "python",
      "name": "python3"
    },
    "language_info": {
      "codemirror_mode": {
        "name": "ipython",
        "version": 3
      },
      "file_extension": ".py",
      "mimetype": "text/x-python",
      "name": "python",
      "nbconvert_exporter": "python",
      "pygments_lexer": "ipython3",
      "version": "3.10.12"
    }
  },
  "nbformat": 4,
  "nbformat_minor": 5
}